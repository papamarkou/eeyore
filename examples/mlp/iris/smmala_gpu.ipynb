{
 "cells": [
  {
   "cell_type": "markdown",
   "metadata": {},
   "source": [
    "# SMMALA sampling of MLP weights using iris data\n",
    "\n",
    "Sampling the weights of a multi-layer perceptron (MLP) using the iris data and SMMALA."
   ]
  },
  {
   "cell_type": "code",
   "execution_count": null,
   "metadata": {},
   "outputs": [],
   "source": [
    "## Import packages\n",
    "\n",
    "import numpy as np\n",
    "\n",
    "import torch\n",
    "import torch.nn as nn\n",
    "\n",
    "from torch.utils.data import DataLoader\n",
    "from torch.distributions import Normal\n",
    "\n",
    "from eeyore.api import indexify\n",
    "from eeyore.data import Iris\n",
    "from eeyore.stats import softabs\n",
    "from eeyore.models import mlp\n",
    "from eeyore.mcmc import SMMALA\n",
    "\n",
    "from timeit import default_timer as timer\n",
    "from datetime import timedelta\n",
    "\n",
    "import matplotlib.pyplot as plt\n",
    "import seaborn as sns"
   ]
  },
  {
   "cell_type": "code",
   "execution_count": null,
   "metadata": {},
   "outputs": [],
   "source": [
    "## Avoid issuing memory warning due to number of plots\n",
    "\n",
    "plt.rcParams.update({'figure.max_open_warning': 0})"
   ]
  },
  {
   "cell_type": "code",
   "execution_count": null,
   "metadata": {},
   "outputs": [],
   "source": [
    "## Set device to be GPU\n",
    "\n",
    "device = 'cuda:0'"
   ]
  },
  {
   "cell_type": "code",
   "execution_count": null,
   "metadata": {},
   "outputs": [],
   "source": [
    "## Load iris data\n",
    "\n",
    "iris = indexify(Iris)()\n",
    "dataloader = DataLoader(iris, batch_size=150, shuffle=True)"
   ]
  },
  {
   "cell_type": "code",
   "execution_count": null,
   "metadata": {},
   "outputs": [],
   "source": [
    "## Setup MLP model\n",
    "\n",
    "hparams = mlp.Hyperparameters(dims=[4, 3, 3], activations=[torch.sigmoid, None])\n",
    "model = mlp.MLP(\n",
    "    hparams=hparams,\n",
    "    loss=lambda x, y: nn.CrossEntropyLoss(reduction='sum')(x, torch.argmax(y, 1)),\n",
    "    dtype=torch.float64,\n",
    "    device=device\n",
    ")\n",
    "model.prior = Normal(\n",
    "    torch.zeros(model.num_params(), dtype=model.dtype, device=device),\n",
    "    np.sqrt(3)*torch.ones(model.num_params(), dtype=model.dtype, device=device)\n",
    ")"
   ]
  },
  {
   "cell_type": "code",
   "execution_count": null,
   "metadata": {},
   "outputs": [],
   "source": [
    "## Setup SMMALA sampler\n",
    "\n",
    "theta0 = model.prior.sample()\n",
    "sampler = SMMALA(model, theta0, dataloader, step=0.025, transform=lambda hessian: softabs(hessian, a=10000.))"
   ]
  },
  {
   "cell_type": "code",
   "execution_count": null,
   "metadata": {},
   "outputs": [],
   "source": [
    "## Run SMMALA sampler\n",
    "\n",
    "start_time = timer()\n",
    "\n",
    "sampler.run(num_iterations=1100, num_burnin=100)\n",
    "\n",
    "end_time = timer()\n",
    "print(\"Time taken: {}\".format(timedelta(seconds=end_time-start_time)))"
   ]
  },
  {
   "cell_type": "code",
   "execution_count": null,
   "metadata": {},
   "outputs": [],
   "source": [
    "## Compute acceptance rate\n",
    "\n",
    "sampler.chain.acceptance_rate()"
   ]
  },
  {
   "cell_type": "code",
   "execution_count": null,
   "metadata": {},
   "outputs": [],
   "source": [
    "## Compute Monte Carlo mean\n",
    "\n",
    "sampler.chain.mean()"
   ]
  },
  {
   "cell_type": "code",
   "execution_count": null,
   "metadata": {},
   "outputs": [],
   "source": [
    "## Plot traces of simulated Markov chain\n",
    "\n",
    "for i in range(model.num_params()):\n",
    "    chain = sampler.chain.get_theta(i)\n",
    "    plt.figure()\n",
    "    sns.lineplot(range(len(chain)), chain)\n",
    "    plt.xlabel('Iteration')\n",
    "    plt.ylabel('Parameter value')\n",
    "    plt.title(r'Traceplot of parameter {}'.format(i+1))"
   ]
  },
  {
   "cell_type": "code",
   "execution_count": null,
   "metadata": {},
   "outputs": [],
   "source": [
    "## Plot running means of simulated Markov chain\n",
    "\n",
    "for i in range(model.num_params()):\n",
    "    chain = sampler.chain.get_theta(i)\n",
    "    chain_mean = torch.empty(len(chain))\n",
    "    chain_mean[0] = chain[0]\n",
    "    for j in range(1, len(chain)):\n",
    "        chain_mean[j] = (chain[j]+j*chain_mean[j-1])/(j+1)\n",
    "        \n",
    "    plt.figure()\n",
    "    sns.lineplot(range(len(chain)), chain_mean)\n",
    "    plt.xlabel('Iteration')\n",
    "    plt.ylabel('Parameter value')\n",
    "    plt.title(r'Running mean of parameter {}'.format(i+1))"
   ]
  },
  {
   "cell_type": "code",
   "execution_count": null,
   "metadata": {},
   "outputs": [],
   "source": [
    "## Plot histograms of simulated Markov chain\n",
    "\n",
    "for i in range(model.num_params()):\n",
    "    plt.figure()\n",
    "    sns.distplot(sampler.chain.get_theta(i), bins=20, norm_hist=True)\n",
    "    plt.xlabel('Value range')\n",
    "    plt.ylabel('Relative frequency')\n",
    "    plt.title(r'Histogram of parameter {}'.format(i+1))"
   ]
  }
 ],
 "metadata": {
  "kernelspec": {
   "display_name": "Python 3",
   "language": "python",
   "name": "python3"
  },
  "language_info": {
   "codemirror_mode": {
    "name": "ipython",
    "version": 3
   },
   "file_extension": ".py",
   "mimetype": "text/x-python",
   "name": "python",
   "nbconvert_exporter": "python",
   "pygments_lexer": "ipython3",
   "version": "3.6.9"
  }
 },
 "nbformat": 4,
 "nbformat_minor": 4
}
