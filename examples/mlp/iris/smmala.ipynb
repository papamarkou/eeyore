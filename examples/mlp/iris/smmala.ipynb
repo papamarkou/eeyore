{
 "cells": [
  {
   "cell_type": "markdown",
   "metadata": {},
   "source": [
    "# SMMALA sampling of MLP weights using XOR data\n",
    "\n",
    "Learn the XOR function by sampling the weights of a multi-layer perceptron (MLP) via SMMALA."
   ]
  },
  {
   "cell_type": "code",
   "execution_count": null,
   "metadata": {},
   "outputs": [],
   "source": [
    "## Import packages\n",
    "\n",
    "import numpy as np\n",
    "\n",
    "import torch\n",
    "\n",
    "from torch.utils.data import DataLoader\n",
    "from torch.distributions import Normal\n",
    "\n",
    "from eeyore.data import Iris\n",
    "from eeyore.stats import softabs\n",
    "from eeyore.models import mlp\n",
    "from eeyore.mcmc import SMMALA\n",
    "\n",
    "import matplotlib.pyplot as plt\n",
    "import seaborn as sns"
   ]
  },
  {
   "cell_type": "code",
   "execution_count": null,
   "metadata": {},
   "outputs": [],
   "source": [
    "## Load XOR data\n",
    "\n",
    "iris = Iris()\n",
    "dataloader = DataLoader(iris, batch_size=4)"
   ]
  },
  {
   "cell_type": "code",
   "execution_count": null,
   "metadata": {},
   "outputs": [],
   "source": [
    "## Setup MLP model\n",
    "\n",
    "hparams = mlp.Hyperparameters(dims=[4, 2, 3])\n",
    "model = mlp.MLP(hparams=hparams)\n",
    "model.prior = Normal(\n",
    "    torch.zeros(model.num_params(), dtype=model.dtype),\n",
    "    np.sqrt(3)*torch.ones(model.num_params(), dtype=model.dtype)\n",
    ")"
   ]
  },
  {
   "cell_type": "code",
   "execution_count": null,
   "metadata": {},
   "outputs": [],
   "source": [
    "## Setup SMMALA sampler\n",
    "\n",
    "theta0 = model.prior.sample()\n",
    "sampler = SMMALA(model, theta0, dataloader, step=1., transform=lambda hessian: softabs(hessian, a=1000.))"
   ]
  },
  {
   "cell_type": "code",
   "execution_count": null,
   "metadata": {},
   "outputs": [],
   "source": [
    "## Run SMMALA sampler\n",
    "\n",
    "sampler.run(num_iterations=110, num_burnin=10, verbose=True)"
   ]
  },
  {
   "cell_type": "code",
   "execution_count": null,
   "metadata": {},
   "outputs": [],
   "source": [
    "## Compute acceptance rate\n",
    "\n",
    "sampler.chain.acceptance_rate()"
   ]
  },
  {
   "cell_type": "code",
   "execution_count": null,
   "metadata": {},
   "outputs": [],
   "source": [
    "## Compute Monte Carlo mean\n",
    "\n",
    "sampler.chain.mean()"
   ]
  },
  {
   "cell_type": "code",
   "execution_count": null,
   "metadata": {},
   "outputs": [],
   "source": [
    "## Plot traces of simulated Markov chain\n",
    "\n",
    "for i in range(model.num_params()):\n",
    "    chain = sampler.chain.get_theta(i)\n",
    "    plt.figure()\n",
    "    sns.lineplot(range(len(chain)), chain)\n",
    "    plt.xlabel('Iteration')\n",
    "    plt.ylabel('Parameter value')\n",
    "    plt.title(r'Traceplot of parameter $\\theta_{}$'.format(i+1))"
   ]
  },
  {
   "cell_type": "code",
   "execution_count": null,
   "metadata": {},
   "outputs": [],
   "source": [
    "## Plot running means of simulated Markov chain\n",
    "\n",
    "for i in range(model.num_params()):\n",
    "    chain = sampler.chain.get_theta(i)\n",
    "    chain_mean = torch.empty(len(chain))\n",
    "    chain_mean[0] = chain[0]\n",
    "    for j in range(1, len(chain)):\n",
    "        chain_mean[j] = (chain[j]+j*chain_mean[j-1])/(j+1)\n",
    "        \n",
    "    plt.figure()\n",
    "    sns.lineplot(range(len(chain)), chain_mean)\n",
    "    plt.xlabel('Iteration')\n",
    "    plt.ylabel('Parameter value')\n",
    "    plt.title(r'Running mean of parameter $\\theta_{}$'.format(i+1))"
   ]
  },
  {
   "cell_type": "code",
   "execution_count": null,
   "metadata": {},
   "outputs": [],
   "source": [
    "sampler.chain"
   ]
  },
  {
   "cell_type": "code",
   "execution_count": null,
   "metadata": {},
   "outputs": [],
   "source": [
    "## Plot histograms of simulated Markov chain\n",
    "\n",
    "for i in range(model.num_params()):\n",
    "    plt.figure()\n",
    "    sns.distplot(sampler.chain.get_theta(i), bins=20, norm_hist=True)\n",
    "    plt.xlabel('Value range')\n",
    "    plt.ylabel('Relative frequency')\n",
    "    plt.title(r'Histogram of parameter $\\theta_{}$'.format(i+1))"
   ]
  }
 ],
 "metadata": {
  "kernelspec": {
   "display_name": "Python 3",
   "language": "python",
   "name": "python3"
  },
  "language_info": {
   "codemirror_mode": {
    "name": "ipython",
    "version": 3
   },
   "file_extension": ".py",
   "mimetype": "text/x-python",
   "name": "python",
   "nbconvert_exporter": "python",
   "pygments_lexer": "ipython3",
   "version": "3.6.5"
  }
 },
 "nbformat": 4,
 "nbformat_minor": 2
}
