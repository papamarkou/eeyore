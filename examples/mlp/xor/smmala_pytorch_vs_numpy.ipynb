{
 "cells": [
  {
   "cell_type": "markdown",
   "metadata": {},
   "source": [
    "# SMMALA on MLP with XOR data; comparing PyTorch with numpy output"
   ]
  },
  {
   "cell_type": "code",
   "execution_count": 1,
   "metadata": {},
   "outputs": [],
   "source": [
    "## Import packages\n",
    "\n",
    "import numpy as np\n",
    "\n",
    "import torch\n",
    "\n",
    "from torch.utils.data import DataLoader\n",
    "\n",
    "from eeyore.data import XOR\n",
    "from eeyore.models import mlp\n",
    "from eeyore.stats import softabs, softabs_np\n",
    "from eeyore.mcmc import SMMALA, SMMALANP\n",
    "\n",
    "import matplotlib.pyplot as plt\n",
    "import seaborn as sns"
   ]
  },
  {
   "cell_type": "code",
   "execution_count": 2,
   "metadata": {},
   "outputs": [],
   "source": [
    "## Load XOR data\n",
    "\n",
    "xor = XOR()\n",
    "dataloader = DataLoader(xor, batch_size=4)"
   ]
  },
  {
   "cell_type": "code",
   "execution_count": 3,
   "metadata": {},
   "outputs": [],
   "source": [
    "## Initialize hyperparameters\n",
    "\n",
    "hparams = mlp.Hyperparameters(dims=[2, 2, 1])"
   ]
  },
  {
   "cell_type": "code",
   "execution_count": 4,
   "metadata": {},
   "outputs": [],
   "source": [
    "## Setup MLP model using PyTorch\n",
    "\n",
    "model = mlp.MLP(hparams=hparams)"
   ]
  },
  {
   "cell_type": "code",
   "execution_count": 5,
   "metadata": {},
   "outputs": [],
   "source": [
    "## Initialize parameters\n",
    "\n",
    "theta0 = model.prior.sample()"
   ]
  },
  {
   "cell_type": "code",
   "execution_count": 6,
   "metadata": {},
   "outputs": [],
   "source": [
    "## Setup SMMALA sampler using PyTorch\n",
    "\n",
    "sampler = SMMALA(model, theta0, dataloader, step=0.25, transform=lambda hessian: softabs(hessian, 1000))"
   ]
  },
  {
   "cell_type": "code",
   "execution_count": 7,
   "metadata": {},
   "outputs": [],
   "source": [
    "## Setup SMMALA sampler using numpy\n",
    "\n",
    "sampler_np = SMMALANP(model, theta0.detach().cpu().numpy(), dataloader, step=0.25, transform=lambda hessian: softabs_np(hessian, 1000))"
   ]
  },
  {
   "cell_type": "code",
   "execution_count": 8,
   "metadata": {},
   "outputs": [],
   "source": [
    "## Fix stochastic components of a draw via SMMALA\n",
    "\n",
    "randn_val = torch.randn(sampler.model.num_params(), dtype=torch.float64)\n",
    "threshold = torch.rand(1, dtype=torch.float64)"
   ]
  },
  {
   "cell_type": "code",
   "execution_count": 9,
   "metadata": {},
   "outputs": [
    {
     "data": {
      "text/plain": [
       "tensor([ 1.6612,  0.0945,  0.8177,  1.6956,  0.4440, -1.9902, -0.4069,  0.1285,\n",
       "         1.2720], dtype=torch.float64)"
      ]
     },
     "execution_count": 9,
     "metadata": {},
     "output_type": "execute_result"
    }
   ],
   "source": [
    "## Set starting state before draw\n",
    "\n",
    "current_before_draw = torch.randn(sampler.model.num_params(), dtype=torch.float64)\n",
    "current_before_draw"
   ]
  },
  {
   "cell_type": "code",
   "execution_count": 10,
   "metadata": {},
   "outputs": [],
   "source": [
    "## Set starting state in SMMALA and draw a new state using PyTorch\n",
    "\n",
    "sampler.reset(current_before_draw)\n",
    "\n",
    "proposed_torch_draw1, log_rate_torch_draw1, accept_torch_draw1 = sampler.draw(randn_val, threshold)\n",
    "\n",
    "sampler.reset(current_before_draw)\n",
    "\n",
    "proposed_torch_draw2, log_rate_torch_draw2, accept_torch_draw2 = sampler.draw(randn_val, threshold)\n",
    "\n",
    "sampler_np.reset(current_before_draw)\n",
    "\n",
    "proposed_np_draw, log_rate_np_draw, accept_np_draw = sampler_np.draw(randn_val.detach().cpu().numpy(), threshold.item())"
   ]
  },
  {
   "cell_type": "code",
   "execution_count": 11,
   "metadata": {},
   "outputs": [
    {
     "data": {
      "text/plain": [
       "(tensor([ 2.1631,  0.9101,  0.7747,  1.7720,  0.9561, -2.4636, -0.5775,  0.4754,\n",
       "          1.3983], dtype=torch.float64, grad_fn=<AddBackward0>),\n",
       " tensor([ 2.1631,  0.9101,  0.7747,  1.7720,  0.9561, -2.4636, -0.5775,  0.4754,\n",
       "          1.3983], dtype=torch.float64, grad_fn=<AddBackward0>),\n",
       " array([ 2.16309067,  0.91007237,  0.77470738,  1.77202912,  0.95606433,\n",
       "        -2.46359143, -0.57752035,  0.47542532,  1.39825027]))"
      ]
     },
     "execution_count": 11,
     "metadata": {},
     "output_type": "execute_result"
    }
   ],
   "source": [
    "## Display proposed parameter values\n",
    "\n",
    "proposed_torch_draw1['theta'], \\\n",
    "proposed_torch_draw2['theta'], \\\n",
    "proposed_np_draw['theta']"
   ]
  },
  {
   "cell_type": "code",
   "execution_count": 12,
   "metadata": {},
   "outputs": [
    {
     "data": {
      "text/plain": [
       "(tensor([[ 9.9892e-01, -7.0904e-03,  2.5933e-04, -7.5525e-05, -1.1878e-03,\n",
       "           1.2520e-04,  1.8186e-03,  6.2095e-04,  2.8620e-03],\n",
       "         [-7.0904e-03,  1.0053e+00, -6.7229e-04,  6.2455e-04,  3.1299e-03,\n",
       "           2.6072e-04,  1.7795e-02,  1.4401e-03,  1.2957e-03],\n",
       "         [ 2.5933e-04, -6.7229e-04,  1.0406e+00,  2.6184e-02, -3.6211e-04,\n",
       "           4.0809e-02, -3.5442e-03, -1.6549e-01, -1.8052e-03],\n",
       "         [-7.5525e-05,  6.2455e-04,  2.6184e-02,  1.0307e+00,  8.4859e-04,\n",
       "           3.3610e-02, -6.5975e-03, -1.4740e-01, -6.4924e-03],\n",
       "         [-1.1878e-03,  3.1299e-03, -3.6211e-04,  8.4859e-04,  9.7932e-01,\n",
       "           1.9740e-03, -7.4242e-02,  1.0210e-02,  5.0577e-02],\n",
       "         [ 1.2520e-04,  2.6072e-04,  4.0809e-02,  3.3610e-02,  1.9740e-03,\n",
       "           1.0272e+00, -1.2538e-02, -1.6339e-01, -1.3356e-02],\n",
       "         [ 1.8186e-03,  1.7795e-02, -3.5442e-03, -6.5975e-03, -7.4242e-02,\n",
       "          -1.2538e-02,  7.5404e-01, -7.7444e-02, -2.8327e-01],\n",
       "         [ 6.2095e-04,  1.4401e-03, -1.6549e-01, -1.4740e-01,  1.0210e-02,\n",
       "          -1.6339e-01, -7.7444e-02,  1.0262e+00, -7.8141e-02],\n",
       "         [ 2.8620e-03,  1.2957e-03, -1.8052e-03, -6.4924e-03,  5.0577e-02,\n",
       "          -1.3356e-02, -2.8327e-01, -7.8141e-02,  6.8251e-01]],\n",
       "        dtype=torch.float64),\n",
       " tensor([[ 9.9892e-01, -7.0904e-03,  2.5933e-04, -7.5525e-05, -1.1878e-03,\n",
       "           1.2520e-04,  1.8186e-03,  6.2095e-04,  2.8620e-03],\n",
       "         [-7.0904e-03,  1.0053e+00, -6.7229e-04,  6.2455e-04,  3.1299e-03,\n",
       "           2.6072e-04,  1.7795e-02,  1.4401e-03,  1.2957e-03],\n",
       "         [ 2.5933e-04, -6.7229e-04,  1.0406e+00,  2.6184e-02, -3.6211e-04,\n",
       "           4.0809e-02, -3.5442e-03, -1.6549e-01, -1.8052e-03],\n",
       "         [-7.5525e-05,  6.2455e-04,  2.6184e-02,  1.0307e+00,  8.4859e-04,\n",
       "           3.3610e-02, -6.5975e-03, -1.4740e-01, -6.4924e-03],\n",
       "         [-1.1878e-03,  3.1299e-03, -3.6211e-04,  8.4859e-04,  9.7932e-01,\n",
       "           1.9740e-03, -7.4242e-02,  1.0210e-02,  5.0577e-02],\n",
       "         [ 1.2520e-04,  2.6072e-04,  4.0809e-02,  3.3610e-02,  1.9740e-03,\n",
       "           1.0272e+00, -1.2538e-02, -1.6339e-01, -1.3356e-02],\n",
       "         [ 1.8186e-03,  1.7795e-02, -3.5442e-03, -6.5975e-03, -7.4242e-02,\n",
       "          -1.2538e-02,  7.5404e-01, -7.7444e-02, -2.8327e-01],\n",
       "         [ 6.2095e-04,  1.4401e-03, -1.6549e-01, -1.4740e-01,  1.0210e-02,\n",
       "          -1.6339e-01, -7.7444e-02,  1.0262e+00, -7.8141e-02],\n",
       "         [ 2.8620e-03,  1.2957e-03, -1.8052e-03, -6.4924e-03,  5.0577e-02,\n",
       "          -1.3356e-02, -2.8327e-01, -7.8141e-02,  6.8251e-01]],\n",
       "        dtype=torch.float64),\n",
       " array([[ 9.98920232e-01, -7.09043595e-03,  2.59327258e-04,\n",
       "         -7.55253164e-05, -1.18776294e-03,  1.25195322e-04,\n",
       "          1.81858328e-03,  6.20947920e-04,  2.86204353e-03],\n",
       "        [-7.09043595e-03,  1.00528599e+00, -6.72286008e-04,\n",
       "          6.24545965e-04,  3.12986933e-03,  2.60717818e-04,\n",
       "          1.77950196e-02,  1.44014851e-03,  1.29574007e-03],\n",
       "        [ 2.59327258e-04, -6.72286008e-04,  1.04059356e+00,\n",
       "          2.61835940e-02, -3.62107822e-04,  4.08091807e-02,\n",
       "         -3.54420819e-03, -1.65491571e-01, -1.80521083e-03],\n",
       "        [-7.55253164e-05,  6.24545965e-04,  2.61835940e-02,\n",
       "          1.03073857e+00,  8.48593261e-04,  3.36100158e-02,\n",
       "         -6.59754985e-03, -1.47404845e-01, -6.49244605e-03],\n",
       "        [-1.18776294e-03,  3.12986933e-03, -3.62107822e-04,\n",
       "          8.48593261e-04,  9.79319696e-01,  1.97397255e-03,\n",
       "         -7.42417379e-02,  1.02103953e-02,  5.05770117e-02],\n",
       "        [ 1.25195322e-04,  2.60717818e-04,  4.08091807e-02,\n",
       "          3.36100158e-02,  1.97397255e-03,  1.02719774e+00,\n",
       "         -1.25376705e-02, -1.63390586e-01, -1.33555900e-02],\n",
       "        [ 1.81858328e-03,  1.77950196e-02, -3.54420819e-03,\n",
       "         -6.59754985e-03, -7.42417379e-02, -1.25376705e-02,\n",
       "          7.54035167e-01, -7.74439733e-02, -2.83266108e-01],\n",
       "        [ 6.20947920e-04,  1.44014851e-03, -1.65491571e-01,\n",
       "         -1.47404845e-01,  1.02103953e-02, -1.63390586e-01,\n",
       "         -7.74439733e-02,  1.02619292e+00, -7.81410814e-02],\n",
       "        [ 2.86204353e-03,  1.29574007e-03, -1.80521083e-03,\n",
       "         -6.49244605e-03,  5.05770117e-02, -1.33555900e-02,\n",
       "         -2.83266108e-01, -7.81410814e-02,  6.82507469e-01]]))"
      ]
     },
     "execution_count": 12,
     "metadata": {},
     "output_type": "execute_result"
    }
   ],
   "source": [
    "## Display inverse metric tensor of proposed parameter values\n",
    "\n",
    "proposed_torch_draw1['inv_metric_val'], \\\n",
    "proposed_torch_draw2['inv_metric_val'], \\\n",
    "proposed_np_draw['inv_metric_val']"
   ]
  },
  {
   "cell_type": "code",
   "execution_count": 13,
   "metadata": {},
   "outputs": [
    {
     "data": {
      "text/plain": [
       "(tensor(-0.1510, dtype=torch.float64, grad_fn=<SubBackward0>),\n",
       " tensor(-0.1510, dtype=torch.float64, grad_fn=<SubBackward0>),\n",
       " -0.15103053448700798)"
      ]
     },
     "execution_count": 13,
     "metadata": {},
     "output_type": "execute_result"
    }
   ],
   "source": [
    "## Display logarithm of acceptance rates\n",
    "\n",
    "log_rate_torch_draw1, \\\n",
    "log_rate_torch_draw2, \\\n",
    "log_rate_np_draw"
   ]
  },
  {
   "cell_type": "code",
   "execution_count": 14,
   "metadata": {},
   "outputs": [
    {
     "data": {
      "text/plain": [
       "(1, 1, 1)"
      ]
     },
     "execution_count": 14,
     "metadata": {},
     "output_type": "execute_result"
    }
   ],
   "source": [
    "accept_torch_draw1, \\\n",
    "accept_torch_draw2, \\\n",
    "accept_np_draw"
   ]
  }
 ],
 "metadata": {
  "kernelspec": {
   "display_name": "Python 3",
   "language": "python",
   "name": "python3"
  },
  "language_info": {
   "codemirror_mode": {
    "name": "ipython",
    "version": 3
   },
   "file_extension": ".py",
   "mimetype": "text/x-python",
   "name": "python",
   "nbconvert_exporter": "python",
   "pygments_lexer": "ipython3",
   "version": "3.6.5"
  }
 },
 "nbformat": 4,
 "nbformat_minor": 2
}
