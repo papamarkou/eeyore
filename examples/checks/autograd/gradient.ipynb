{
 "cells": [
  {
   "cell_type": "code",
   "execution_count": 1,
   "metadata": {},
   "outputs": [],
   "source": [
    "import torch"
   ]
  },
  {
   "cell_type": "markdown",
   "metadata": {},
   "source": [
    "# Demonstration of autograd functionality"
   ]
  },
  {
   "cell_type": "code",
   "execution_count": 2,
   "metadata": {},
   "outputs": [],
   "source": [
    "x = torch.tensor([0.1, 0.3], dtype=torch.float, requires_grad=True)\n",
    "y = -0.5*torch.sum(x**2)"
   ]
  },
  {
   "cell_type": "code",
   "execution_count": 3,
   "metadata": {},
   "outputs": [
    {
     "data": {
      "text/plain": [
       "True"
      ]
     },
     "execution_count": 3,
     "metadata": {},
     "output_type": "execute_result"
    }
   ],
   "source": [
    "y.requires_grad"
   ]
  },
  {
   "cell_type": "code",
   "execution_count": 4,
   "metadata": {},
   "outputs": [],
   "source": [
    "y.backward()"
   ]
  },
  {
   "cell_type": "code",
   "execution_count": 5,
   "metadata": {},
   "outputs": [
    {
     "name": "stdout",
     "output_type": "stream",
     "text": [
      "tensor(-0.0500, grad_fn=<MulBackward0>)\n"
     ]
    }
   ],
   "source": [
    "print(y)"
   ]
  },
  {
   "cell_type": "code",
   "execution_count": 6,
   "metadata": {},
   "outputs": [
    {
     "name": "stdout",
     "output_type": "stream",
     "text": [
      "tensor([-0.1000, -0.3000])\n"
     ]
    }
   ],
   "source": [
    "print(x.grad)"
   ]
  },
  {
   "cell_type": "markdown",
   "metadata": {},
   "source": [
    "# Comparison between analytical and autograd gradient\n",
    "\n",
    "$$\n",
    "\\begin{align}\n",
    "f(x, y) & =\n",
    "x^3 y^4, \\\\\n",
    "\\nabla (f(x, y)) & =\n",
    "\\begin{pmatrix}\n",
    "3 x^2 y^4 \\\\\n",
    "4 x^3 y^3\n",
    "\\end{pmatrix}.\n",
    "\\end{align}\n",
    "$$"
   ]
  },
  {
   "cell_type": "code",
   "execution_count": 7,
   "metadata": {},
   "outputs": [],
   "source": [
    "def f(theta):\n",
    "    return (theta[0]**3)*(theta[1]**4)\n",
    "\n",
    "def gradf(theta):\n",
    "    return torch.tensor([3*(theta[0]**2)*(theta[1]**4), 4*(theta[0]**3)*(theta[1]**3)], dtype=torch.float)"
   ]
  },
  {
   "cell_type": "code",
   "execution_count": 8,
   "metadata": {},
   "outputs": [
    {
     "name": "stdout",
     "output_type": "stream",
     "text": [
      "Value of f at theta:  tensor(648., grad_fn=<MulBackward0>)\n",
      "Value of grad of f at theta analytically: tensor([972., 864.])\n",
      "Value of grad of f at theta via autograd: tensor([972., 864.])\n",
      "Analytical and autograd gradient of f at theta coincide\n"
     ]
    }
   ],
   "source": [
    "theta = torch.tensor([2., 3.], dtype=torch.float, requires_grad=True)\n",
    "\n",
    "f_val = f(theta)\n",
    "f_val.backward()\n",
    "\n",
    "print(\"Value of f at theta: \", f(theta))\n",
    "print(\"Value of grad of f at theta analytically:\", gradf(theta))\n",
    "print(\"Value of grad of f at theta via autograd:\", theta.grad)\n",
    "\n",
    "if torch.all(torch.eq(gradf(theta), theta.grad)):\n",
    "    print(\"Analytical and autograd gradient of f at theta coincide\")"
   ]
  }
 ],
 "metadata": {
  "kernelspec": {
   "display_name": "Python 3",
   "language": "python",
   "name": "python3"
  },
  "language_info": {
   "codemirror_mode": {
    "name": "ipython",
    "version": 3
   },
   "file_extension": ".py",
   "mimetype": "text/x-python",
   "name": "python",
   "nbconvert_exporter": "python",
   "pygments_lexer": "ipython3",
   "version": "3.6.5"
  }
 },
 "nbformat": 4,
 "nbformat_minor": 2
}
