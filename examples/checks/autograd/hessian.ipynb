{
 "cells": [
  {
   "cell_type": "code",
   "execution_count": 1,
   "metadata": {},
   "outputs": [],
   "source": [
    "import torch\n",
    "\n",
    "from torch.autograd import grad"
   ]
  },
  {
   "cell_type": "markdown",
   "metadata": {},
   "source": [
    "# Comparison between analytical and autograd gradient\n",
    "\n",
    "$$\n",
    "\\begin{align*}\n",
    "f(x, y) & =\n",
    "x^3 y^4, \\\\\n",
    "\\nabla (f(x, y)) & =\n",
    "\\begin{pmatrix}\n",
    "3 x^2 y^4 \\\\\n",
    "4 x^3 y^3\n",
    "\\end{pmatrix}.\n",
    "\\end{align*}\n",
    "$$"
   ]
  },
  {
   "cell_type": "code",
   "execution_count": 2,
   "metadata": {},
   "outputs": [],
   "source": [
    "def f(theta):\n",
    "    return (theta[0]**3)*(theta[1]**4)\n",
    "\n",
    "def gradf(theta):\n",
    "    return torch.tensor([3*(theta[0]**2)*(theta[1]**4), 4*(theta[0]**3)*(theta[1]**3)], dtype=torch.float)"
   ]
  },
  {
   "cell_type": "code",
   "execution_count": 3,
   "metadata": {},
   "outputs": [
    {
     "name": "stdout",
     "output_type": "stream",
     "text": [
      "Value of f at theta:  648.0\n",
      "Value of grad of f at theta analytically: tensor([972., 864.])\n",
      "Value of grad of f at theta via autograd: tensor([972., 864.])\n",
      "Analytical and autograd gradient of f at theta coincide\n"
     ]
    }
   ],
   "source": [
    "theta = torch.tensor([2., 3.], dtype=torch.float, requires_grad=True)\n",
    "\n",
    "f_val = f(theta)\n",
    "\n",
    "# Do not call backward() and then grad() on the output, as it leaks memory\n",
    "# Call instead grad() twice, see for example hess_autograd() function below\n",
    "f_val.backward()\n",
    "\n",
    "print(\"Value of f at theta: \", f(theta).item())\n",
    "\n",
    "print(\"Value of grad of f at theta analytically:\", gradf(theta))\n",
    "print(\"Value of grad of f at theta via autograd:\", theta.grad)\n",
    "\n",
    "if torch.all(torch.eq(gradf(theta), theta.grad)):\n",
    "    print(\"Analytical and autograd gradient of f at theta coincide\")"
   ]
  },
  {
   "cell_type": "markdown",
   "metadata": {},
   "source": [
    "# Comparison between analytical and autograd Hessian\n",
    "\n",
    "$$\n",
    "\\begin{align*}\n",
    "f(x, y) & =\n",
    "x^3 y^4, \\\\\n",
    "\\nabla (f(x, y)) & =\n",
    "\\begin{pmatrix}\n",
    "3 x^2 y^4 \\\\\n",
    "4 x^3 y^3\n",
    "\\end{pmatrix}, \\\\\n",
    "H(f(x, y)) & =\n",
    "\\begin{pmatrix}\n",
    "3 x^2 y^4 & 12 x^2 y^3 \\\\\n",
    "12 x^2 y^3 & 4 x^3 y^3\n",
    "\\end{pmatrix}.\n",
    "\\end{align*}\n",
    "$$"
   ]
  },
  {
   "cell_type": "code",
   "execution_count": 4,
   "metadata": {},
   "outputs": [],
   "source": [
    "def f(theta):\n",
    "    return (theta[0]**3)*(theta[1]**4)\n",
    "\n",
    "def gradf(theta):\n",
    "    return torch.tensor([3*(theta[0]**2)*(theta[1]**4), 4*(theta[0]**3)*(theta[1]**3)], dtype=torch.float)\n",
    "\n",
    "def hess(theta):\n",
    "    return torch.tensor([\n",
    "        [6*theta[0]*(theta[1]**4), 12*(theta[0]**2)*(theta[1]**3)],\n",
    "        [12*(theta[0]**2)*(theta[1]**3), 12*(theta[0]**3)*(theta[1]**2)]], dtype=torch.float)"
   ]
  },
  {
   "cell_type": "code",
   "execution_count": 5,
   "metadata": {},
   "outputs": [
    {
     "name": "stdout",
     "output_type": "stream",
     "text": [
      "f_val: tensor(44.1594, grad_fn=<MulBackward0>)\n",
      "gradf_val tensor([120.4347,  73.5990], grad_fn=<AddBackward0>)\n",
      "hessf_val tensor([[218.9722, 200.7245],\n",
      "        [200.7245,  91.9987]])\n"
     ]
    }
   ],
   "source": [
    "theta = torch.tensor([1.1, 2.4], dtype=torch.float, requires_grad=True)\n",
    "\n",
    "f_val = f(theta)\n",
    "\n",
    "gradf_val, = grad(f_val, theta, create_graph=True)\n",
    "\n",
    "hessf_val = []\n",
    "hessf_val.append(grad(gradf_val[0], theta, retain_graph=True)[0])\n",
    "hessf_val.append(grad(gradf_val[1], theta, retain_graph=True)[0])\n",
    "hessf_val = torch.cat(hessf_val, 0).reshape(2, 2)\n",
    "\n",
    "print(\"f_val:\", f_val)\n",
    "print(\"gradf_val\", gradf_val)\n",
    "print(\"hessf_val\", hessf_val)"
   ]
  },
  {
   "cell_type": "code",
   "execution_count": 6,
   "metadata": {},
   "outputs": [],
   "source": [
    "def hess_autograd(theta, f):\n",
    "    num_params = len(theta)\n",
    "    \n",
    "    f_val = f(theta)\n",
    "    \n",
    "    gradf_val, = grad(f_val, theta, create_graph=True)\n",
    "    \n",
    "    hessf_val = []\n",
    "    for i in range(num_params):\n",
    "        hessf_val.append(grad(gradf_val[i], theta, retain_graph=True)[0])\n",
    "    hessf_val = torch.cat(hessf_val, 0).reshape(num_params, num_params)\n",
    "    \n",
    "    return hessf_val"
   ]
  },
  {
   "cell_type": "code",
   "execution_count": 7,
   "metadata": {},
   "outputs": [
    {
     "name": "stdout",
     "output_type": "stream",
     "text": [
      "Value of f at theta:  tensor(44.1594, grad_fn=<MulBackward0>)\n",
      "Value of grad of f at theta analytically: tensor([120.4347,  73.5990])\n",
      "Value of grad of f at theta via autograd: tensor([120.4347,  73.5990])\n",
      "Analytical and autograd gradient of f at theta coincide\n",
      "Value of Hessian of f at theta analytically: tensor([[218.9722, 200.7245],\n",
      "        [200.7245,  91.9987]])\n",
      "Value of Hessian of f at theta via autograd: tensor([[218.9722, 200.7245],\n",
      "        [200.7245,  91.9987]])\n",
      "Analytical and autograd Hessian of f at theta coincide\n"
     ]
    }
   ],
   "source": [
    "theta = torch.tensor([1.1, 2.4], dtype=torch.float, requires_grad=True)\n",
    "\n",
    "f_val = f(theta)\n",
    "\n",
    "f_val.backward()\n",
    "\n",
    "print(\"Value of f at theta: \", f(theta))\n",
    "\n",
    "print(\"Value of grad of f at theta analytically:\", gradf(theta))\n",
    "print(\"Value of grad of f at theta via autograd:\", theta.grad)\n",
    "\n",
    "if torch.all(torch.eq(gradf(theta), theta.grad)):\n",
    "    print(\"Analytical and autograd gradient of f at theta coincide\")\n",
    "    \n",
    "print(\"Value of Hessian of f at theta analytically:\", hess(theta))\n",
    "print(\"Value of Hessian of f at theta via autograd:\", hess_autograd(theta, f))\n",
    "\n",
    "if torch.all(torch.eq(hess(theta), hess_autograd(theta, f))):\n",
    "    print(\"Analytical and autograd Hessian of f at theta coincide\")"
   ]
  }
 ],
 "metadata": {
  "kernelspec": {
   "display_name": "Python 3",
   "language": "python",
   "name": "python3"
  },
  "language_info": {
   "codemirror_mode": {
    "name": "ipython",
    "version": 3
   },
   "file_extension": ".py",
   "mimetype": "text/x-python",
   "name": "python",
   "nbconvert_exporter": "python",
   "pygments_lexer": "ipython3",
   "version": "3.6.5"
  }
 },
 "nbformat": 4,
 "nbformat_minor": 2
}
