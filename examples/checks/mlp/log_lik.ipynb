{
 "cells": [
  {
   "cell_type": "markdown",
   "metadata": {},
   "source": [
    "# Evaluation of MLP log-likelihood\n",
    "\n",
    "Confirm PyTorch and manually coded MLP log-likelihood coincide"
   ]
  },
  {
   "cell_type": "code",
   "execution_count": 1,
   "metadata": {},
   "outputs": [],
   "source": [
    "## Import packages\n",
    "\n",
    "import torch\n",
    "import torch.nn as nn\n",
    "import torch.nn.functional as F\n",
    "\n",
    "from eeyore.models.mlp import Hyperparameters, MLP\n",
    "from eeyore.data import XOR"
   ]
  },
  {
   "cell_type": "markdown",
   "metadata": {},
   "source": [
    "## Compute MLP log-likelihood using eeyore API version"
   ]
  },
  {
   "cell_type": "code",
   "execution_count": 2,
   "metadata": {},
   "outputs": [],
   "source": [
    "## Load XOR data\n",
    "\n",
    "xor = XOR(dtype=torch.float64)\n",
    "data = xor.data\n",
    "labels = xor.labels"
   ]
  },
  {
   "cell_type": "code",
   "execution_count": 3,
   "metadata": {},
   "outputs": [],
   "source": [
    "## Setup MLP model\n",
    "\n",
    "hparams = Hyperparameters([2, 2, 1])\n",
    "model = MLP(hparams=hparams, dtype=torch.float64)"
   ]
  },
  {
   "cell_type": "code",
   "execution_count": 4,
   "metadata": {},
   "outputs": [],
   "source": [
    "## Fix model parameters\n",
    "\n",
    "theta0 = torch.tensor([1.1, -2.9, -0.4, 0.8, 4.3, 9.2, 4.44, -3.4, 7.2], dtype=torch.float64)\n",
    "model.set_params(theta0.clone().detach())"
   ]
  },
  {
   "cell_type": "code",
   "execution_count": 5,
   "metadata": {},
   "outputs": [
    {
     "data": {
      "text/plain": [
       "tensor(-16.0859, dtype=torch.float64, grad_fn=<NegBackward>)"
      ]
     },
     "execution_count": 5,
     "metadata": {},
     "output_type": "execute_result"
    }
   ],
   "source": [
    "## Compute MLP log-likelihood using eeyore API version\n",
    "\n",
    "result01 = model.log_lik(data, labels)\n",
    "result01"
   ]
  },
  {
   "cell_type": "markdown",
   "metadata": {},
   "source": [
    "## Compute MLP log-likelihood using Pytorch loss and cross entropy"
   ]
  },
  {
   "cell_type": "code",
   "execution_count": 6,
   "metadata": {},
   "outputs": [
    {
     "data": {
      "text/plain": [
       "tensor([[0.9997],\n",
       "        [0.9994],\n",
       "        [0.9997],\n",
       "        [0.9996]], dtype=torch.float64, grad_fn=<SigmoidBackward>)"
      ]
     },
     "execution_count": 6,
     "metadata": {},
     "output_type": "execute_result"
    }
   ],
   "source": [
    "## Compute model output using Pytorch forward() method\n",
    "\n",
    "out = model(data)\n",
    "# out = model.forward(data)\n",
    "out"
   ]
  },
  {
   "cell_type": "code",
   "execution_count": 7,
   "metadata": {},
   "outputs": [],
   "source": [
    "## Define logit loss\n",
    "\n",
    "criterion = nn.BCEWithLogitsLoss(reduction='sum')\n",
    "loss = criterion(out, labels)"
   ]
  },
  {
   "cell_type": "code",
   "execution_count": 8,
   "metadata": {},
   "outputs": [],
   "source": [
    "## Define logit function\n",
    "\n",
    "def logit(p):\n",
    "    return torch.log(p/(1-p))"
   ]
  },
  {
   "cell_type": "code",
   "execution_count": 9,
   "metadata": {},
   "outputs": [
    {
     "data": {
      "text/plain": [
       "tensor(-16.0859, dtype=torch.float64, grad_fn=<NegBackward>)"
      ]
     },
     "execution_count": 9,
     "metadata": {},
     "output_type": "execute_result"
    }
   ],
   "source": [
    "## Compute MLP log-likelihood using Pytorch binary_cross_entropy_with_logits\n",
    "\n",
    "result02a = -F.binary_cross_entropy_with_logits(logit(out), labels, reduction='sum')\n",
    "result02a"
   ]
  },
  {
   "cell_type": "code",
   "execution_count": 10,
   "metadata": {},
   "outputs": [
    {
     "data": {
      "text/plain": [
       "tensor(-16.0859, dtype=torch.float64, grad_fn=<NegBackward>)"
      ]
     },
     "execution_count": 10,
     "metadata": {},
     "output_type": "execute_result"
    }
   ],
   "source": [
    "## Compute MLP log-likelihood using Pytorch binary_cross_entropy\n",
    "\n",
    "result02b = -F.binary_cross_entropy(out, labels, reduction='sum')\n",
    "result02b"
   ]
  },
  {
   "cell_type": "markdown",
   "metadata": {},
   "source": [
    "## Compute MLP log-likelihood manually given Pytorch forward output"
   ]
  },
  {
   "cell_type": "code",
   "execution_count": 11,
   "metadata": {},
   "outputs": [],
   "source": [
    "## Define sigmoid function\n",
    "\n",
    "def sigmoid(x):\n",
    "    return 1 / (1 + torch.exp(-x))"
   ]
  },
  {
   "cell_type": "code",
   "execution_count": 12,
   "metadata": {},
   "outputs": [],
   "source": [
    "## Define MLP log-likelihood\n",
    "\n",
    "def loglik(x, y):\n",
    "    term = y * torch.log(sigmoid(x)) + (1-y) * torch.log(1-sigmoid(x))\n",
    "    return torch.sum(term)"
   ]
  },
  {
   "cell_type": "code",
   "execution_count": 13,
   "metadata": {},
   "outputs": [
    {
     "data": {
      "text/plain": [
       "tensor(-16.0859, dtype=torch.float64, grad_fn=<SumBackward0>)"
      ]
     },
     "execution_count": 13,
     "metadata": {},
     "output_type": "execute_result"
    }
   ],
   "source": [
    "## Compute MLP log-likelihood manually\n",
    "\n",
    "result03 = loglik(logit(out), labels)\n",
    "result03"
   ]
  },
  {
   "cell_type": "code",
   "execution_count": 14,
   "metadata": {},
   "outputs": [
    {
     "data": {
      "text/plain": [
       "[-16.08587869723768,\n",
       " -16.08587869723768,\n",
       " -16.08587869723768,\n",
       " -16.08587869723768]"
      ]
     },
     "execution_count": 14,
     "metadata": {},
     "output_type": "execute_result"
    }
   ],
   "source": [
    "[p.data.item() for p in [result01, result02a, result02b, result03]]"
   ]
  }
 ],
 "metadata": {
  "kernelspec": {
   "display_name": "Python 3",
   "language": "python",
   "name": "python3"
  },
  "language_info": {
   "codemirror_mode": {
    "name": "ipython",
    "version": 3
   },
   "file_extension": ".py",
   "mimetype": "text/x-python",
   "name": "python",
   "nbconvert_exporter": "python",
   "pygments_lexer": "ipython3",
   "version": "3.6.5"
  }
 },
 "nbformat": 4,
 "nbformat_minor": 2
}
