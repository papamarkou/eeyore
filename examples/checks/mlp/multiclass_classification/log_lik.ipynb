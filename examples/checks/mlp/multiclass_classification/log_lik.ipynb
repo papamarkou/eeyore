{
 "cells": [
  {
   "cell_type": "markdown",
   "metadata": {},
   "source": [
    "# Evaluation of MLP log-likelihood for multiclass classification\n",
    "\n",
    "Confirm PyTorch and manually coded MLP log-likelihood coincide"
   ]
  },
  {
   "cell_type": "code",
   "execution_count": 1,
   "metadata": {},
   "outputs": [],
   "source": [
    "## Import packages\n",
    "\n",
    "import torch\n",
    "import torch.nn as nn\n",
    "\n",
    "from eeyore.models.mlp import Hyperparameters, MLP\n",
    "from eeyore.data import Iris"
   ]
  },
  {
   "cell_type": "markdown",
   "metadata": {},
   "source": [
    "## Compute MLP log-likelihood using eeyore API version"
   ]
  },
  {
   "cell_type": "code",
   "execution_count": 2,
   "metadata": {},
   "outputs": [],
   "source": [
    "## Load iris data\n",
    "\n",
    "iris = Iris()\n",
    "\n",
    "data = iris.data\n",
    "labels = iris.labels"
   ]
  },
  {
   "cell_type": "code",
   "execution_count": 3,
   "metadata": {},
   "outputs": [],
   "source": [
    "## Setup MLP model\n",
    "\n",
    "hparams = Hyperparameters(dims=[4, 3, 3], activations=[torch.sigmoid, None])\n",
    "model = MLP(hparams=hparams, loss=lambda x, y: nn.CrossEntropyLoss(reduction='sum')(x, torch.argmax(y, 1)), dtype=torch.float64)"
   ]
  },
  {
   "cell_type": "code",
   "execution_count": 4,
   "metadata": {},
   "outputs": [],
   "source": [
    "## Fix model parameters\n",
    "\n",
    "# theta = torch.rand(27, dtype=torch.float64)\n",
    "theta = torch.tensor([\n",
    "    0.7735, 0.8161, 0.3910, 0.9622, 0.3748, 0.8711, 0.3315, 0.5473, 0.8820,\n",
    "    0.0294, 0.9686, 0.8313, 0.6693, 0.8791, 0.6271, 0.8636, 0.3814, 0.0319,\n",
    "    0.5148, 0.5086, 0.7428, 0.5464, 0.5278, 0.6127, 0.4499, 0.1538, 0.9291], dtype=torch.float64)\n",
    "model.set_params(theta.clone().detach())"
   ]
  },
  {
   "cell_type": "code",
   "execution_count": 5,
   "metadata": {},
   "outputs": [
    {
     "data": {
      "text/plain": [
       "tensor(-176.2545, dtype=torch.float64, grad_fn=<NegBackward>)"
      ]
     },
     "execution_count": 5,
     "metadata": {},
     "output_type": "execute_result"
    }
   ],
   "source": [
    "## Compute MLP log-likelihood using eeyore API version\n",
    "\n",
    "result01 = model.log_lik(data, labels)\n",
    "result01"
   ]
  },
  {
   "cell_type": "code",
   "execution_count": 6,
   "metadata": {},
   "outputs": [
    {
     "data": {
      "text/plain": [
       "tensor(-176.2545, dtype=torch.float64, grad_fn=<NegBackward>)"
      ]
     },
     "execution_count": 6,
     "metadata": {},
     "output_type": "execute_result"
    }
   ],
   "source": [
    "## Compute MLP log-likelihood using eeyore loss method in MLP model\n",
    "\n",
    "result02 = -model.loss(model(data), labels)\n",
    "result02"
   ]
  },
  {
   "cell_type": "markdown",
   "metadata": {},
   "source": [
    "## Compute MLP log-likelihood using Pytorch loss and cross entropy"
   ]
  },
  {
   "cell_type": "code",
   "execution_count": 7,
   "metadata": {},
   "outputs": [
    {
     "data": {
      "text/plain": [
       "tensor(-176.2545, dtype=torch.float64, grad_fn=<NegBackward>)"
      ]
     },
     "execution_count": 7,
     "metadata": {},
     "output_type": "execute_result"
    }
   ],
   "source": [
    "result03 = -nn.CrossEntropyLoss(reduction='sum')(model(data), torch.argmax(labels, 1))\n",
    "result03"
   ]
  },
  {
   "cell_type": "code",
   "execution_count": 8,
   "metadata": {},
   "outputs": [
    {
     "data": {
      "text/plain": [
       "tensor(-176.2545, dtype=torch.float64, grad_fn=<NegBackward>)"
      ]
     },
     "execution_count": 8,
     "metadata": {},
     "output_type": "execute_result"
    }
   ],
   "source": [
    "result04 = -nn.NLLLoss(reduction='sum')(nn.Softmax(dim=1)(model(data)).log(), torch.argmax(labels, 1))\n",
    "result04"
   ]
  },
  {
   "cell_type": "markdown",
   "metadata": {},
   "source": [
    "## Compute MLP log-likelihood manually"
   ]
  },
  {
   "cell_type": "code",
   "execution_count": 9,
   "metadata": {},
   "outputs": [],
   "source": [
    "def cross_entropy_loss(data, labels):\n",
    "    n = labels.size(dim=0)\n",
    "    \n",
    "    logit = model(data)\n",
    "    \n",
    "    softmax_vals = nn.Softmax(dim=1)(logit).log()\n",
    "    labels_argmax = torch.argmax(labels, 1)\n",
    "    \n",
    "    result = 0\n",
    "    for i in range(n):\n",
    "        result = result + softmax_vals[i, labels_argmax[i]]\n",
    "        \n",
    "    return result"
   ]
  },
  {
   "cell_type": "code",
   "execution_count": 10,
   "metadata": {},
   "outputs": [
    {
     "data": {
      "text/plain": [
       "tensor(-176.2545, dtype=torch.float64, grad_fn=<AddBackward0>)"
      ]
     },
     "execution_count": 10,
     "metadata": {},
     "output_type": "execute_result"
    }
   ],
   "source": [
    "result05 = cross_entropy_loss(data, labels)\n",
    "result05"
   ]
  },
  {
   "cell_type": "markdown",
   "metadata": {},
   "source": [
    "## Print out values of all log-lik implementations"
   ]
  },
  {
   "cell_type": "code",
   "execution_count": 11,
   "metadata": {},
   "outputs": [
    {
     "data": {
      "text/plain": [
       "[-176.2544991888255,\n",
       " -176.2544991888255,\n",
       " -176.2544991888255,\n",
       " -176.25449918882543,\n",
       " -176.25449918882543]"
      ]
     },
     "execution_count": 11,
     "metadata": {},
     "output_type": "execute_result"
    }
   ],
   "source": [
    "[p.data.item() for p in [result01, result02, result03, result04, result05]]"
   ]
  }
 ],
 "metadata": {
  "kernelspec": {
   "display_name": "Python 3",
   "language": "python",
   "name": "python3"
  },
  "language_info": {
   "codemirror_mode": {
    "name": "ipython",
    "version": 3
   },
   "file_extension": ".py",
   "mimetype": "text/x-python",
   "name": "python",
   "nbconvert_exporter": "python",
   "pygments_lexer": "ipython3",
   "version": "3.6.5"
  }
 },
 "nbformat": 4,
 "nbformat_minor": 2
}
